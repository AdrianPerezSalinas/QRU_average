{
 "cells": [
  {
   "cell_type": "code",
   "execution_count": 1,
   "metadata": {},
   "outputs": [],
   "source": [
    "from circuits_IC import *"
   ]
  },
  {
   "cell_type": "markdown",
   "metadata": {},
   "source": [
    "## Standard general VQAs"
   ]
  },
  {
   "cell_type": "code",
   "execution_count": 2,
   "metadata": {},
   "outputs": [],
   "source": [
    "# This creates the circuit\n",
    "\n",
    "sqc = single_qubit_and_entangling(5, 2)\n",
    "\n"
   ]
  },
  {
   "cell_type": "code",
   "execution_count": 3,
   "metadata": {},
   "outputs": [
    {
     "name": "stdout",
     "output_type": "stream",
     "text": [
      "0\n",
      "2\n",
      "4\n",
      "q0: ─RX─RZ─RX─o───X─RX─RZ─RX─────RX─RZ─RX─\n",
      "q1: ─RX─RZ─RX─X───|─RX─RZ─RX─o───RX─RZ─RX─\n",
      "q2: ─RX─RZ─RX───o─|─RX─RZ─RX─X───RX─RZ─RX─\n",
      "q3: ─RX─RZ─RX───X─|─RX─RZ─RX───o─RX─RZ─RX─\n",
      "q4: ─RX─RZ─RX─────o─RX─RZ─RX───X─RX─RZ─RX─\n"
     ]
    }
   ],
   "source": [
    "# SEe the PQC, the entangling gates will have the data later\n",
    "\n",
    "sqc.create_PQC()\n",
    "\n",
    "print(sqc.PQC.draw())"
   ]
  },
  {
   "cell_type": "code",
   "execution_count": 4,
   "metadata": {},
   "outputs": [
    {
     "name": "stdout",
     "output_type": "stream",
     "text": [
      "q0: ─RX─RZ─RX─o───────GPI─RX─RZ─RX─────────RX─RZ─RX─\n",
      "q1: ─RX─RZ─RX─GPI─────|───RX─RZ─RX─o───────RX─RZ─RX─\n",
      "q2: ─RX─RZ─RX─────o───|───RX─RZ─RX─GPI─────RX─RZ─RX─\n",
      "q3: ─RX─RZ─RX─────GPI─|───RX─RZ─RX─────o───RX─RZ─RX─\n",
      "q4: ─RX─RZ─RX─────────o───RX─RZ─RX─────GPI─RX─RZ─RX─\n"
     ]
    }
   ],
   "source": [
    "# SEe the QML model, the entangling gates encode data now (GPI)\n",
    "\n",
    "sqc.create_QML()\n",
    "\n",
    "print(sqc.QML.draw())\n",
    "\n"
   ]
  },
  {
   "cell_type": "code",
   "execution_count": 5,
   "metadata": {},
   "outputs": [
    {
     "name": "stdout",
     "output_type": "stream",
     "text": [
      "[0.56932554 0.87270049 0.64121043 0.93493378 0.2622285  0.22975542\n",
      " 0.20927109 0.32996516 0.65456414 0.9106003  0.39654567 0.83175246\n",
      " 0.56390784 0.44497704 0.58365109 0.6266573  0.77741654 0.3910761\n",
      " 0.62793659 0.91542143 0.78457411 0.30727452 0.83435092 0.16009155\n",
      " 0.40072818 0.32026551 0.02941048 0.03028079 0.8304764  0.69925365\n",
      " 0.64095224 0.29025041 0.42122414 0.36224055 0.20578691 0.62640723\n",
      " 0.15937428 0.99419677 0.39759272 0.20425731 0.52059063 0.367673\n",
      " 0.33120862 0.65151744 0.15870022]\n",
      "[0.56932554 0.87270049 0.64121043 0.93493378 0.2622285  0.22975542\n",
      " 0.20927109 0.32996516 0.65456414 0.9106003  0.39654567 0.83175246\n",
      " 0.56390784 0.44497704 0.58365109 0.         0.         0.\n",
      " 0.6266573  0.77741654 0.3910761  0.62793659 0.91542143 0.78457411\n",
      " 0.30727452 0.83435092 0.16009155 0.40072818 0.32026551 0.02941048\n",
      " 0.03028079 0.8304764  0.69925365 0.         0.         0.64095224\n",
      " 0.29025041 0.42122414 0.36224055 0.20578691 0.62640723 0.15937428\n",
      " 0.99419677 0.39759272 0.20425731 0.52059063 0.367673   0.33120862\n",
      " 0.65151744 0.15870022]\n"
     ]
    }
   ],
   "source": [
    "# the mapper takes parameters and data and merges them together for QML model\n",
    "\n",
    "params = np.random.rand(len(sqc.PQC.get_parameters()))\n",
    "\n",
    "data_params = sqc.mapper_QML(params, float(0))\n",
    "\n",
    "print(params)\n",
    "print(data_params)"
   ]
  },
  {
   "cell_type": "code",
   "execution_count": null,
   "metadata": {},
   "outputs": [],
   "source": []
  },
  {
   "cell_type": "markdown",
   "metadata": {},
   "source": [
    "## Circuits with permutation invariance"
   ]
  },
  {
   "cell_type": "code",
   "execution_count": 6,
   "metadata": {},
   "outputs": [
    {
     "name": "stdout",
     "output_type": "stream",
     "text": [
      "q0: ─RX─RX─\n",
      "q1: ─RX─RX─\n",
      "q2: ─RX─RX─\n",
      "q3: ─RX─RX─\n",
      "q4: ─RX─RX─\n"
     ]
    }
   ],
   "source": [
    "sp = permutation_simple(5, 2)\n",
    "\n",
    "sp.create_PQC()\n",
    "\n",
    "print(sp.PQC.draw())\n"
   ]
  },
  {
   "cell_type": "code",
   "execution_count": 7,
   "metadata": {},
   "outputs": [
    {
     "name": "stdout",
     "output_type": "stream",
     "text": [
      "q0:     ─RX─o────o────────X─RZ─X───────────────RX─o────o────────X─RZ─X──────── ...\n",
      "q1:     ─RX─X─RZ─X────────|────|─o────o────────RX─X─RZ─X────────|────|─o────o─ ...\n",
      "q2:     ─RX────────o────o─|────|─X─RZ─X────────RX────────o────o─|────|─X─RZ─X─ ...\n",
      "q3:     ─RX────────X─RZ─X─|────|────────o────o─RX────────X─RZ─X─|────|──────── ...\n",
      "q4:     ─RX───────────────o────o────────X─RZ─X─RX───────────────o────o──────── ...\n",
      "\n",
      "q0: ... ───────\n",
      "q1: ... ───────\n",
      "q2: ... ───────\n",
      "q3: ... o────o─\n",
      "q4: ... X─RZ─X─\n"
     ]
    }
   ],
   "source": [
    "sp.create_QML()\n",
    "\n",
    "print(sp.QML.draw())"
   ]
  },
  {
   "cell_type": "code",
   "execution_count": 8,
   "metadata": {},
   "outputs": [
    {
     "data": {
      "text/plain": [
       "(array([0.08347129, 0.08347129, 0.08347129, 0.08347129, 0.08347129,\n",
       "        0.51654948, 0.51654948, 0.51654948, 0.51654948, 0.51654948]),\n",
       " array([0.08347129, 0.08347129, 0.08347129, 0.08347129, 0.08347129,\n",
       "        1.        , 1.        , 1.        , 1.        , 1.        ,\n",
       "        0.51654948, 0.51654948, 0.51654948, 0.51654948, 0.51654948,\n",
       "        1.        , 1.        , 1.        , 1.        , 1.        ]))"
      ]
     },
     "execution_count": 8,
     "metadata": {},
     "output_type": "execute_result"
    }
   ],
   "source": [
    "sp.mapper_QML(np.random.rand(2), 1)"
   ]
  },
  {
   "cell_type": "code",
   "execution_count": null,
   "metadata": {},
   "outputs": [],
   "source": []
  },
  {
   "cell_type": "markdown",
   "metadata": {},
   "source": [
    "## Permutation double"
   ]
  },
  {
   "cell_type": "code",
   "execution_count": 9,
   "metadata": {},
   "outputs": [
    {
     "name": "stdout",
     "output_type": "stream",
     "text": [
      "q0:     ─RX─o────o────────X─RZ─X───────────────RX─o────o────────X─RZ─X──────── ...\n",
      "q1:     ─RX─X─RZ─X────────|────|─o────o────────RX─X─RZ─X────────|────|─o────o─ ...\n",
      "q2:     ─RX────────o────o─|────|─X─RZ─X────────RX────────o────o─|────|─X─RZ─X─ ...\n",
      "q3:     ─RX────────X─RZ─X─|────|────────o────o─RX────────X─RZ─X─|────|──────── ...\n",
      "q4:     ─RX───────────────o────o────────X─RZ─X─RX───────────────o────o──────── ...\n",
      "\n",
      "q0: ... ───────\n",
      "q1: ... ───────\n",
      "q2: ... ───────\n",
      "q3: ... o────o─\n",
      "q4: ... X─RZ─X─\n"
     ]
    }
   ],
   "source": [
    "pd = permutation_double(5, 2)\n",
    "\n",
    "pd.create_PQC()\n",
    "\n",
    "print(pd.PQC.draw())"
   ]
  },
  {
   "cell_type": "code",
   "execution_count": 10,
   "metadata": {},
   "outputs": [
    {
     "name": "stdout",
     "output_type": "stream",
     "text": [
      "q0:     ─RX─RX─o────o────────X─RZ─X───────────────RX─RX─o────o────────X─RZ─X── ...\n",
      "q1:     ─RX─RX─X─RZ─X────────|────|─o────o────────RX─RX─X─RZ─X────────|────|─o ...\n",
      "q2:     ─RX─RX────────o────o─|────|─X─RZ─X────────RX─RX────────o────o─|────|─X ...\n",
      "q3:     ─RX─RX────────X─RZ─X─|────|────────o────o─RX─RX────────X─RZ─X─|────|── ...\n",
      "q4:     ─RX─RX───────────────o────o────────X─RZ─X─RX─RX───────────────o────o── ...\n",
      "\n",
      "q0: ... ─────────────\n",
      "q1: ... ────o────────\n",
      "q2: ... ─RZ─X────────\n",
      "q3: ... ──────o────o─\n",
      "q4: ... ──────X─RZ─X─\n"
     ]
    }
   ],
   "source": [
    "pd.create_QML()\n",
    "\n",
    "print(pd.QML.draw())"
   ]
  },
  {
   "cell_type": "code",
   "execution_count": 11,
   "metadata": {},
   "outputs": [
    {
     "data": {
      "text/plain": [
       "(array([0.38362983, 0.38362983, 0.38362983, 0.38362983, 0.38362983,\n",
       "        0.69006   , 0.69006   , 0.69006   , 0.69006   , 0.69006   ,\n",
       "        0.64564616, 0.64564616, 0.64564616, 0.64564616, 0.64564616,\n",
       "        0.90904165, 0.90904165, 0.90904165, 0.90904165, 0.90904165]),\n",
       " array([1.        , 1.        , 1.        , 1.        , 1.        ,\n",
       "        0.38362983, 0.38362983, 0.38362983, 0.38362983, 0.38362983,\n",
       "        0.69006   , 0.69006   , 0.69006   , 0.69006   , 0.69006   ,\n",
       "        1.        , 1.        , 1.        , 1.        , 1.        ,\n",
       "        0.64564616, 0.64564616, 0.64564616, 0.64564616, 0.64564616,\n",
       "        0.90904165, 0.90904165, 0.90904165, 0.90904165, 0.90904165]))"
      ]
     },
     "execution_count": 11,
     "metadata": {},
     "output_type": "execute_result"
    }
   ],
   "source": [
    "pd.mapper_QML(np.random.rand(4), 1)"
   ]
  },
  {
   "cell_type": "markdown",
   "metadata": {},
   "source": [
    "## Permutation composed"
   ]
  },
  {
   "cell_type": "code",
   "execution_count": 12,
   "metadata": {},
   "outputs": [
    {
     "name": "stdout",
     "output_type": "stream",
     "text": [
      "q0:     ─RX─o────o────────X─RZ─X───────────────RX─o────o────────X─RZ─X──────── ...\n",
      "q1:     ─RX─X─RZ─X────────|────|─o────o────────RX─X─RZ─X────────|────|─o────o─ ...\n",
      "q2:     ─RX────────o────o─|────|─X─RZ─X────────RX────────o────o─|────|─X─RZ─X─ ...\n",
      "q3:     ─RX────────X─RZ─X─|────|────────o────o─RX────────X─RZ─X─|────|──────── ...\n",
      "q4:     ─RX───────────────o────o────────X─RZ─X─RX───────────────o────o──────── ...\n",
      "\n",
      "q0: ... ───────\n",
      "q1: ... ───────\n",
      "q2: ... ───────\n",
      "q3: ... o────o─\n",
      "q4: ... X─RZ─X─\n"
     ]
    }
   ],
   "source": [
    "pc = permutation_composed(5, 2)\n",
    "\n",
    "pc.create_PQC()\n",
    "\n",
    "print(pc.PQC.draw())"
   ]
  },
  {
   "cell_type": "code",
   "execution_count": 13,
   "metadata": {},
   "outputs": [
    {
     "name": "stdout",
     "output_type": "stream",
     "text": [
      "q0:     ─RY─RX─o────o────────X─RZ─X───────────────RY─RX─o────o────────X─RZ─X── ...\n",
      "q1:     ─RY─RX─X─RZ─X────────|────|─o────o────────RY─RX─X─RZ─X────────|────|─o ...\n",
      "q2:     ─RY─RX────────o────o─|────|─X─RZ─X────────RY─RX────────o────o─|────|─X ...\n",
      "q3:     ─RY─RX────────X─RZ─X─|────|────────o────o─RY─RX────────X─RZ─X─|────|── ...\n",
      "q4:     ─RY─RX───────────────o────o────────X─RZ─X─RY─RX───────────────o────o── ...\n",
      "\n",
      "q0: ... ─────────────\n",
      "q1: ... ────o────────\n",
      "q2: ... ─RZ─X────────\n",
      "q3: ... ──────o────o─\n",
      "q4: ... ──────X─RZ─X─\n"
     ]
    }
   ],
   "source": [
    "pc.create_QML()\n",
    "\n",
    "print(pc.QML.draw())"
   ]
  },
  {
   "cell_type": "code",
   "execution_count": null,
   "metadata": {},
   "outputs": [],
   "source": []
  }
 ],
 "metadata": {
  "kernelspec": {
   "display_name": "general",
   "language": "python",
   "name": "python3"
  },
  "language_info": {
   "codemirror_mode": {
    "name": "ipython",
    "version": 3
   },
   "file_extension": ".py",
   "mimetype": "text/x-python",
   "name": "python",
   "nbconvert_exporter": "python",
   "pygments_lexer": "ipython3",
   "version": "3.10.6"
  },
  "orig_nbformat": 4
 },
 "nbformat": 4,
 "nbformat_minor": 2
}
